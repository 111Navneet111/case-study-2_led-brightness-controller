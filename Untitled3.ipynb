{
  "nbformat": 4,
  "nbformat_minor": 0,
  "metadata": {
    "colab": {
      "provenance": []
    },
    "kernelspec": {
      "name": "python3",
      "display_name": "Python 3"
    },
    "language_info": {
      "name": "python"
    }
  },
  "cells": [
    {
      "cell_type": "code",
      "execution_count": 6,
      "metadata": {
        "colab": {
          "base_uri": "https://localhost:8080/",
          "height": 0
        },
        "id": "xjru9YtwD3x7",
        "outputId": "1241e570-4c17-4f03-f9fc-b39122d5ef96"
      },
      "outputs": [
        {
          "output_type": "stream",
          "name": "stdout",
          "text": [
            "Enter the LED brightness (0-100): 78\n",
            "LED Brightness: [*******   ] 78%\n",
            "\n",
            "To exit, enter -1.\n",
            "Enter the LED brightness (0-100): 34\n",
            "LED Brightness: [***       ] 34%\n",
            "\n",
            "To exit, enter -1.\n",
            "Enter the LED brightness (0-100): 89\n",
            "LED Brightness: [********  ] 89%\n",
            "\n",
            "To exit, enter -1.\n",
            "Enter the LED brightness (0-100): 100\n",
            "LED Brightness: [**********] 100%\n",
            "\n",
            "To exit, enter -1.\n",
            "Enter the LED brightness (0-100): 0\n",
            "LED Brightness: [          ] 0%\n",
            "\n",
            "To exit, enter -1.\n",
            "Enter the LED brightness (0-100): -1\n",
            "Exiting program.\n"
          ]
        }
      ],
      "source": [
        "#Case study 2: LED Brightness Control\n",
        "\n",
        "def set_brightness(brightness):\n",
        "\n",
        "    if brightness < 0:\n",
        "        brightness = 0\n",
        "    elif brightness > 100:\n",
        "        brightness = 100\n",
        "\n",
        "\n",
        "    num_stars = brightness // 10\n",
        "    print(f\"LED Brightness: [{'*' * num_stars}{' ' * (10 - num_stars)}] {brightness}%\")\n",
        "\n",
        "\n",
        "def main():\n",
        "    while True:\n",
        "        try:\n",
        "\n",
        "            brightness = int(input(\"Enter the LED brightness (0-100): \"))\n",
        "\n",
        "\n",
        "            if brightness == -1:\n",
        "                print(\"Exiting program.\")\n",
        "                break\n",
        "\n",
        "\n",
        "            set_brightness(brightness)\n",
        "\n",
        "        except ValueError:\n",
        "            print(\"Invalid input! Please enter a valid number between 0 and 100.\")\n",
        "\n",
        "        print(\"\\nTo exit, enter -1.\")\n",
        "\n",
        "\n",
        "main()"
      ]
    }
  ]
}